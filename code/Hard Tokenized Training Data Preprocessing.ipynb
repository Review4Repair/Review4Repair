{
 "cells": [
  {
   "cell_type": "markdown",
   "metadata": {},
   "source": [
    "## Accessory functions"
   ]
  },
  {
   "cell_type": "code",
   "execution_count": 1,
   "metadata": {},
   "outputs": [],
   "source": [
    "import json\n",
    "def getJsonData(JsonFile):\n",
    "    with open(JsonFile, encoding=\"utf8\") as f:\n",
    "        data = json.load(f)\n",
    "    return data"
   ]
  },
  {
   "cell_type": "code",
   "execution_count": 2,
   "metadata": {},
   "outputs": [],
   "source": [
    "## Only keeps the datapoints that has less tokens than a particular threshold both in focus and target\n",
    "\n",
    "def limit_focus(data, limit):\n",
    "    data_new = []\n",
    "    for i in range(len(data)):\n",
    "        try:\n",
    "            focus_len = data[i]['tokenized_code_snippet'].index('<|endfocus|>') \\\n",
    "            - data[i]['tokenized_code_snippet'].index('<|startfocus|>')\n",
    "            target_len = len(data[i]['tokenized_target'])\n",
    "        except:\n",
    "            focus_len = 300\n",
    "        if focus_len < limit and target_len < limit:\n",
    "            data_new.append(data[i])\n",
    "    return data_new"
   ]
  },
  {
   "cell_type": "code",
   "execution_count": 3,
   "metadata": {},
   "outputs": [],
   "source": [
    "def dump_dict(data, name):\n",
    "    with open(name, 'w', encoding=\"utf8\") as f:\n",
    "        json.dump(data, f)"
   ]
  },
  {
   "cell_type": "markdown",
   "metadata": {},
   "source": [
    "## Load Dataset"
   ]
  },
  {
   "cell_type": "code",
   "execution_count": 5,
   "metadata": {},
   "outputs": [],
   "source": [
    "train = getJsonData('jsons/train_by_project.json')\n",
    "test = getJsonData('jsons/test_by_project.json')"
   ]
  },
  {
   "cell_type": "code",
   "execution_count": 6,
   "metadata": {},
   "outputs": [
    {
     "name": "stdout",
     "output_type": "stream",
     "text": [
      "status\n",
      "message\n",
      "comment_id\n",
      "target\n",
      "code_snippet\n",
      "prime_var_dic\n",
      "class_list\n",
      "func_list\n",
      "tokenized_code_snippet\n",
      "tokenized_target\n",
      "tokenized_comment\n",
      "global_index\n",
      "base_code_line_number\n",
      "base_patch_number\n",
      "changed_patch_number\n",
      "code_file_name\n",
      "line_change\n",
      "written_on\n",
      "project_name\n",
      "int_date\n"
     ]
    }
   ],
   "source": [
    "for x in test[0].keys():\n",
    "    print(x)"
   ]
  },
  {
   "cell_type": "markdown",
   "metadata": {},
   "source": [
    "### Limit Focus and Target to 100 Tokens"
   ]
  },
  {
   "cell_type": "code",
   "execution_count": 7,
   "metadata": {},
   "outputs": [],
   "source": [
    "train_100 = limit_focus(train, 100)\n",
    "test_100 = limit_focus(test, 100)"
   ]
  },
  {
   "cell_type": "code",
   "execution_count": 8,
   "metadata": {},
   "outputs": [],
   "source": [
    "dump_dict(train_100, \"jsons/train_100.json\")\n",
    "dump_dict(test_100, \"jsons/test_100.json\")"
   ]
  },
  {
   "cell_type": "markdown",
   "metadata": {},
   "source": [
    "# Creating Vocab"
   ]
  },
  {
   "cell_type": "code",
   "execution_count": null,
   "metadata": {},
   "outputs": [],
   "source": [
    "train_100 = getJsonData('jsons/train_100.json')\n",
    "test_100 = getJsonData('jsons/test_100.json')"
   ]
  },
  {
   "cell_type": "code",
   "execution_count": 44,
   "metadata": {},
   "outputs": [],
   "source": [
    "code_freq = {}\n",
    "comment_freq = {}"
   ]
  },
  {
   "cell_type": "code",
   "execution_count": 45,
   "metadata": {},
   "outputs": [],
   "source": [
    "for i in range(len(train_100)):\n",
    "    source_tokens = train_100[i]['tokenized_code_snippet']\n",
    "    target_tokens = train_100[i]['tokenized_target']\n",
    "    comment_tokens = train_100[i]['tokenized_comment']\n",
    "    code_tokens = source_tokens + target_tokens\n",
    "    \n",
    "    for x in code_tokens:\n",
    "        if x not in code_freq:\n",
    "            code_freq[x] = 0\n",
    "        code_freq[x] += 1\n",
    "        \n",
    "    for x in comment_tokens:\n",
    "        if x not in comment_freq:\n",
    "            comment_freq[x] = 0\n",
    "        comment_freq[x] += 1"
   ]
  },
  {
   "cell_type": "code",
   "execution_count": 46,
   "metadata": {},
   "outputs": [],
   "source": [
    "sorted_code_freq = {k: v for k, v in sorted(code_freq.items(), key=lambda item: item[1], reverse=True)}"
   ]
  },
  {
   "cell_type": "code",
   "execution_count": 48,
   "metadata": {},
   "outputs": [],
   "source": [
    "sorted_comment_freq = {k: v for k, v in sorted(comment_freq.items(), key=lambda item: item[1], reverse=True)}"
   ]
  },
  {
   "cell_type": "markdown",
   "metadata": {},
   "source": [
    "**Dump the file for future reference**"
   ]
  },
  {
   "cell_type": "code",
   "execution_count": 52,
   "metadata": {},
   "outputs": [],
   "source": [
    "dump_dict(sorted_code_freq, 'jsons/sorted_code_freq.json')"
   ]
  },
  {
   "cell_type": "code",
   "execution_count": 53,
   "metadata": {},
   "outputs": [],
   "source": [
    "dump_dict(sorted_comment_freq, 'jsons/sorted_comment_freq.json')"
   ]
  },
  {
   "cell_type": "markdown",
   "metadata": {},
   "source": [
    "**Load from dumped data**"
   ]
  },
  {
   "cell_type": "code",
   "execution_count": 4,
   "metadata": {},
   "outputs": [],
   "source": [
    "sorted_code_freq = getJsonData('jsons/sorted_code_freq_100.json')\n",
    "sorted_comment_freq = getJsonData('jsons/sorted_comment_freq_100.json')"
   ]
  },
  {
   "cell_type": "markdown",
   "metadata": {},
   "source": [
    "**Saving vocab text file**"
   ]
  },
  {
   "cell_type": "code",
   "execution_count": 6,
   "metadata": {},
   "outputs": [],
   "source": [
    "!mkdir vocab/c/"
   ]
  },
  {
   "cell_type": "code",
   "execution_count": 7,
   "metadata": {},
   "outputs": [],
   "source": [
    "target_out = open(\"vocab/c/target_vocab_10000.txt\", \"w\", encoding='utf-8')\n",
    "#source_out = open(\"vocab/source_vocab_8000.txt\", \"w\", encoding='utf-8')"
   ]
  },
  {
   "cell_type": "code",
   "execution_count": 8,
   "metadata": {},
   "outputs": [],
   "source": [
    "## Take the first 'num_code_token' from the codes.\n",
    "\n",
    "num_code_token = 2000\n",
    "num_total_token = 10000\n",
    "\n",
    "for x in list(sorted_code_freq)[:num_code_token]:\n",
    "    target_out.write(x)\n",
    "    target_out.write(\"\\n\")\n",
    "target_out.close()"
   ]
  },
  {
   "cell_type": "code",
   "execution_count": null,
   "metadata": {},
   "outputs": [],
   "source": [
    "src_vocab = list(sorted_code_freq)[:num_code_token]\n",
    "for tok in sorted_comment_freq:\n",
    "    if tok not in src_vocab and len(src_vocab) < num_total_token:\n",
    "        src_vocab.append(tok)\n",
    "\n",
    "for x in src_vocab:\n",
    "    source_out.write(x)\n",
    "    source_out.write(\"\\n\")\n",
    "source_out.close()"
   ]
  },
  {
   "cell_type": "markdown",
   "metadata": {},
   "source": [
    "# Creating Training Data"
   ]
  },
  {
   "cell_type": "code",
   "execution_count": null,
   "metadata": {},
   "outputs": [],
   "source": [
    "!mkdir -p training_data\n",
    "!mkdir -p training_data/c\n",
    "!mkdir -p training_data/cc"
   ]
  },
  {
   "cell_type": "code",
   "execution_count": null,
   "metadata": {},
   "outputs": [],
   "source": [
    "train_100 = getJsonData('jsons/train_100.json')\n",
    "test_100 = getJsonData('jsons/test_100.json')"
   ]
  },
  {
   "cell_type": "markdown",
   "metadata": {},
   "source": [
    "## Code+Comment\n",
    "\n",
    "Write the train_100 file into OpenNMT training data. First CC, then C"
   ]
  },
  {
   "cell_type": "code",
   "execution_count": 43,
   "metadata": {},
   "outputs": [],
   "source": [
    "src_train = open(\"training_data/cc/src-train.txt\", 'w')\n",
    "src_test = open(\"training_data/cc/src-test.txt\", 'w')\n",
    "tgt_train = open(\"training_data/cc/tgt-train.txt\", 'w')\n",
    "tgt_test = open(\"training_data/cc/tgt-test.txt\", 'w')"
   ]
  },
  {
   "cell_type": "code",
   "execution_count": null,
   "metadata": {},
   "outputs": [],
   "source": [
    "for x in train_100:\n",
    "    comment = '<|startcomment|> ' + ' '.join(x['tokenized_comment'][:200]) + ' <|endcomment|> '\n",
    "    code_snippet = ' '.join(x['tokenized_code_snippet']) + '\\n'\n",
    "    target = ' '.join(x['tokenized_target']) + '\\n'\n",
    "    src_train.write(comment)\n",
    "    src_train.write(code_snippet)\n",
    "    tgt_train.write(target)\n",
    "src_train.close()\n",
    "tgt_train.close()"
   ]
  },
  {
   "cell_type": "code",
   "execution_count": 44,
   "metadata": {},
   "outputs": [],
   "source": [
    "for x in test_100:\n",
    "    comment = '<|startcomment|> ' + ' '.join(x['tokenized_comment'][:200]) + ' <|endcomment|> '\n",
    "    code_snippet = ' '.join(x['tokenized_code']) + '\\n'\n",
    "    target = ' '.join(x['tokenized_target']) + '\\n'\n",
    "    src_test.write(comment)\n",
    "    src_test.write(code_snippet)\n",
    "    tgt_test.write(target)\n",
    "src_test.close()\n",
    "tgt_test.close()"
   ]
  },
  {
   "cell_type": "markdown",
   "metadata": {},
   "source": [
    "## Code only"
   ]
  },
  {
   "cell_type": "code",
   "execution_count": 38,
   "metadata": {},
   "outputs": [],
   "source": [
    "src_train = open(\"training_data/c/src-train.txt\", 'w')\n",
    "src_test = open(\"training_data/c/src-test.txt\", 'w')\n",
    "tgt_train = open(\"training_data/c/tgt-train.txt\", 'w')\n",
    "tgt_test = open(\"training_data/c/tgt-test.txt\", 'w') "
   ]
  },
  {
   "cell_type": "code",
   "execution_count": null,
   "metadata": {},
   "outputs": [],
   "source": [
    "for x in train_100:\n",
    "    #comment = '<|startcomment|> ' + ' '.join(x['tokenized_comment'][:200]) + ' <|endcomment|> '\n",
    "    code_snippet = ' '.join(x['tokenized_code_snippet']) + '\\n'\n",
    "    target = ' '.join(x['tokenized_target']) + '\\n'\n",
    "    #src_train.write(comment)\n",
    "    src_train.write(code_snippet)\n",
    "    tgt_train.write(target)\n",
    "src_train.close()\n",
    "tgt_train.close()"
   ]
  },
  {
   "cell_type": "code",
   "execution_count": 39,
   "metadata": {},
   "outputs": [],
   "source": [
    "for x in test_100:\n",
    "    #comment = '<|startcomment|> ' + ' '.join(x['tokenized_comment'][:200]) + ' <|endcomment|> '\n",
    "    code_snippet = ' '.join(x['tokenized_code_snippet']) + '\\n'\n",
    "    target = ' '.join(x['tokenized_target']) + '\\n'\n",
    "    #src_test.write(comment)\n",
    "    src_test.write(code_snippet)\n",
    "    tgt_test.write(target)\n",
    "src_test.close()\n",
    "tgt_test.close()"
   ]
  },
  {
   "cell_type": "code",
   "execution_count": null,
   "metadata": {},
   "outputs": [],
   "source": []
  }
 ],
 "metadata": {
  "kernelspec": {
   "display_name": "conda_tensorflow_p36",
   "language": "python",
   "name": "conda_tensorflow_p36"
  },
  "language_info": {
   "codemirror_mode": {
    "name": "ipython",
    "version": 3
   },
   "file_extension": ".py",
   "mimetype": "text/x-python",
   "name": "python",
   "nbconvert_exporter": "python",
   "pygments_lexer": "ipython3",
   "version": "3.6.6"
  }
 },
 "nbformat": 4,
 "nbformat_minor": 2
}
