{
 "cells": [
  {
   "cell_type": "markdown",
   "metadata": {},
   "source": [
    "# Training Data for Pretraining Dataset, Hard Tokenization"
   ]
  },
  {
   "cell_type": "code",
   "execution_count": 1,
   "metadata": {},
   "outputs": [],
   "source": [
    "#!mkdir jsons"
   ]
  },
  {
   "cell_type": "code",
   "execution_count": 5,
   "metadata": {},
   "outputs": [],
   "source": [
    "import json\n",
    "def getJsonData(JsonFile):\n",
    "    with open(JsonFile, encoding=\"utf8\") as f:\n",
    "        data = json.load(f)\n",
    "    return data"
   ]
  },
  {
   "cell_type": "code",
   "execution_count": 11,
   "metadata": {},
   "outputs": [],
   "source": [
    "## Only keeps the datapoints that has less tokens than a particular threshold both in focus and target\n",
    "\n",
    "def limit_focus(data, limit):\n",
    "    data_new = []\n",
    "    for i in range(len(data)):\n",
    "        try:\n",
    "            focus_len = data[i]['tokenized_code_snippet'].index('<|endfocus|>') \\\n",
    "            - data[i]['tokenized_code_snippet'].index('<|startfocus|>')\n",
    "            target_len = len(data[i]['tokenized_target'])\n",
    "        except:\n",
    "            focus_len = 300\n",
    "        if focus_len < limit and target_len < limit:\n",
    "            data_new.append(data[i])\n",
    "    return data_new"
   ]
  },
  {
   "cell_type": "code",
   "execution_count": 12,
   "metadata": {},
   "outputs": [],
   "source": [
    "def dump_dict(data, name):\n",
    "    with open(name, 'w', encoding=\"utf8\") as f:\n",
    "        json.dump(data, f)"
   ]
  },
  {
   "cell_type": "code",
   "execution_count": 7,
   "metadata": {
    "scrolled": true
   },
   "outputs": [],
   "source": [
    "test_100 = getJsonData('jsons/test_by_project_100_tok_w_mild.json')"
   ]
  },
  {
   "cell_type": "code",
   "execution_count": 8,
   "metadata": {
    "scrolled": false
   },
   "outputs": [
    {
     "data": {
      "text/plain": [
       "2719"
      ]
     },
     "execution_count": 8,
     "metadata": {},
     "output_type": "execute_result"
    }
   ],
   "source": [
    "test_data_list = []\n",
    "for x in test_100:\n",
    "    test_data = x['code_snippet'] + x['target']\n",
    "    test_data_list.append(test_data)\n",
    "\n",
    "test_data_list = list(set(test_data_list))\n",
    "len(test_data_list)"
   ]
  },
  {
   "cell_type": "code",
   "execution_count": 9,
   "metadata": {},
   "outputs": [],
   "source": [
    "def remove_repeated_data(data):\n",
    "    data_new = []\n",
    "    for x in data:\n",
    "        x_str = x['code_snippet'] + x['target']\n",
    "        if x_str not in test_data_list:\n",
    "            data_new.append(x)\n",
    "    return data_new"
   ]
  },
  {
   "cell_type": "code",
   "execution_count": null,
   "metadata": {
    "scrolled": true
   },
   "outputs": [
    {
     "name": "stdout",
     "output_type": "stream",
     "text": [
      "Processing: 0\n",
      "Processing: 1\n",
      "Processing: 2\n",
      "Processing: 3\n",
      "Processing: 4\n",
      "Processing: 5\n",
      "Processing: 6\n"
     ]
    }
   ],
   "source": [
    "for i in range(9):\n",
    "    print(\"Processing:\", i)\n",
    "    pre_train = getJsonData('../dataset/pretrained_v1/pretrained_data_processed_v1_file_no_{}.json'.format(i))\n",
    "    pre_train_100 = limit_focus(pre_train, 100)\n",
    "    pre_train_100 = remove_repeated_data(pre_train_100)\n",
    "    src_train_c = open(\"training_data/c/temp-pretrain-src-train-{}.txt\".format(i), 'w')\n",
    "    src_train_cc = open(\"training_data/cc/temp-pretrain-src-train-{}.txt\".format(i), 'w')\n",
    "    tgt_train_cc = open(\"training_data/cc/temp-pretrain-tgt-train-{}.txt\".format(i), 'w')\n",
    "\n",
    "    for x in pre_train_100:\n",
    "        comment = '<|startcomment|> <|endcomment|> '\n",
    "        code_snippet = ' '.join(x['tokenized_code_snippet']) + '\\n'\n",
    "        target = ' '.join(x['tokenized_target']) + '\\n'\n",
    "        src_train_cc.write(comment)\n",
    "        src_train_c.write(code_snippet)\n",
    "        src_train_cc.write(code_snippet)\n",
    "        tgt_train_cc.write(target)\n",
    "    src_train_c.close()\n",
    "    src_train_cc.close()\n",
    "    tgt_train_cc.close()"
   ]
  },
  {
   "cell_type": "code",
   "execution_count": 15,
   "metadata": {},
   "outputs": [],
   "source": [
    "!cat training_data/cc/temp-pretrain-src-train-* > training_data/cc/pretrain-src-train.txt\n",
    "!cat training_data/c/temp-pretrain-src-train-* > training_data/c/pretrain-src-train.txt\n",
    "!cat training_data/cc/temp-pretrain-tgt-train-* > training_data/cc/pretrain-tgt-train.txt"
   ]
  },
  {
   "cell_type": "code",
   "execution_count": 16,
   "metadata": {},
   "outputs": [],
   "source": [
    "!rm training_data/cc/temp*\n",
    "!rm training_data/c/temp*"
   ]
  },
  {
   "cell_type": "code",
   "execution_count": null,
   "metadata": {},
   "outputs": [],
   "source": [
    "!cp training_data/cc/pretrain-tgt-train.txt raw_data/c/"
   ]
  },
  {
   "cell_type": "code",
   "execution_count": null,
   "metadata": {},
   "outputs": [],
   "source": []
  }
 ],
 "metadata": {
  "kernelspec": {
   "display_name": "conda_tensorflow_p36",
   "language": "python",
   "name": "conda_tensorflow_p36"
  },
  "language_info": {
   "codemirror_mode": {
    "name": "ipython",
    "version": 3
   },
   "file_extension": ".py",
   "mimetype": "text/x-python",
   "name": "python",
   "nbconvert_exporter": "python",
   "pygments_lexer": "ipython3",
   "version": "3.6.6"
  }
 },
 "nbformat": 4,
 "nbformat_minor": 4
}
