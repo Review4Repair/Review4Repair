{
 "cells": [
  {
   "cell_type": "code",
   "execution_count": 9,
   "metadata": {},
   "outputs": [
    {
     "name": "stdout",
     "output_type": "stream",
     "text": [
      "alldiff\r\n",
      "insert<|sep|><|startfocus|>\n",
      "<|endfocus|>\n",
      "\n",
      " * ===============LICENSE_START=======================================================\n",
      " * Acumos\n",
      " * ===================================================================================\n",
      " * Copyright (C) 2017 AT&T Intellectual Property & Tech Mahindra. All rights reserved.\n",
      " * ===================================================================================\n",
      " * This Acumos software file is distributed by AT&T and Tech Mahindra\n",
      " * under the Apache License, Version 2.0 (the \"License\");\n",
      " * you may not use this file except in compliance with the License.\n",
      " * You may obtain a copy of the License at\n",
      "<|sep|>heello I am Miles\n",
      "<|datasep|>insert<|sep|><|startfocus|>\n",
      "<|endfocus|>\n",
      "<|startfocus|>\n",
      "\n",
      "<|endfocus|>\n",
      " * ===============LICENSE_START=======================================================\n",
      " * Acumos\n",
      " * ===================================================================================\n",
      " * Copyright (C) 2017 AT&T Intellectual Property & Tech Mahindra. All rights reserved.\n",
      " * ===================================================================================\n",
      " * This Acumos software file is distributed by AT&T and Tech Mahindra\n",
      " * under the Apache License, Version 2.0 (the \"License\");\n",
      " * you may not use this file except in compliance with the License.\n",
      " * You may obtain a copy of the License at\n",
      " *\n",
      "<|sep|> * Acumos\n",
      "\n",
      " ew\n",
      "<|datasep|>delete<|sep|> * This Acumos software file is distributed by AT&T and Tech Mahindra\n",
      " * under the Apache License, Version 2.0 (the \"License\");\n",
      " * you may not use this file except in compliance with the License.\n",
      " * You may obtain a copy of the License at\n",
      " *\n",
      " *      http://www.apache.org/licenses/LICENSE-2.0\n",
      " *\n",
      " * This file is distributed on an \"AS IS\" BASIS,\n",
      " * WITHOUT WARRANTIES OR CONDITIONS OF ANY KIND, either express or implied.\n",
      " * See the License for the specific language governing permissions and\n",
      "<|startfocus|>\n",
      " * limitations under the License.\n",
      "<|endfocus|>\n",
      " * ===============LICENSE_END=========================================================\n",
      " */\n",
      "\n",
      "\n",
      "package org.acumos.designstudio.toscagenerator.vo.protobuf;\n",
      "\n",
      "public class InputMessage {\n",
      "    private String inputMessageName = \"\";\n",
      "\n",
      "\tpublic String getInputMessageName() {\n",
      "<|sep|><|del|>\n",
      "\r\n",
      "\n"
     ]
    }
   ],
   "source": [
    "import subprocess\n",
    "BASE_code=\"/media/amllab-2070/WIN_10/research_stuff/codes/\"\n",
    "\n",
    "def get_source_target(file1, file2, max_target_len = 5, max_input_len=20):\n",
    "    difftype='alldiff'\n",
    "    source_target = subprocess.check_output(['java', '-jar', '.\\\\out\\\\artifacts\\\\ChangedLine_jar\\\\ChangedLine.jar',\\\n",
    "                                     difftype, file1, file2, str(max_target_len), \\\n",
    "                                     str(max_input_len)]).decode('utf-8')\n",
    "    return source_target\n",
    "\n",
    "#source_target = get_source_target(BASE_code+'acumos_11/2.java',BASE_code+'acumos_11/3.java')\n",
    "source_target = get_source_target('prev_code.txt','changed_code.txt')\n",
    "print(source_target)"
   ]
  },
  {
   "cell_type": "code",
   "execution_count": null,
   "metadata": {},
   "outputs": [],
   "source": []
  }
 ],
 "metadata": {
  "kernelspec": {
   "display_name": "Python 3",
   "language": "python",
   "name": "python3"
  },
  "language_info": {
   "codemirror_mode": {
    "name": "ipython",
    "version": 3
   },
   "file_extension": ".py",
   "mimetype": "text/x-python",
   "name": "python",
   "nbconvert_exporter": "python",
   "pygments_lexer": "ipython3",
   "version": "3.6.2"
  }
 },
 "nbformat": 4,
 "nbformat_minor": 2
}
