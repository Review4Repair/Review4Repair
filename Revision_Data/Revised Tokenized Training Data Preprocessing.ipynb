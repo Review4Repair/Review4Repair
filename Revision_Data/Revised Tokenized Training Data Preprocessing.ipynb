{
 "cells": [
  {
   "cell_type": "markdown",
   "metadata": {},
   "source": [
    "## Accessory functions"
   ]
  },
  {
   "cell_type": "code",
   "execution_count": 1,
   "metadata": {},
   "outputs": [],
   "source": [
    "import json\n",
    "def getJsonData(JsonFile):\n",
    "    with open(JsonFile, encoding=\"utf8\") as f:\n",
    "        data = json.load(f)\n",
    "    return data"
   ]
  },
  {
   "cell_type": "code",
   "execution_count": 2,
   "metadata": {},
   "outputs": [],
   "source": [
    "def dump_dict(data, name):\n",
    "    with open(name, 'w', encoding=\"utf8\") as f:\n",
    "        json.dump(data, f)"
   ]
  },
  {
   "cell_type": "markdown",
   "metadata": {},
   "source": [
    "# Creating Vocab"
   ]
  },
  {
   "cell_type": "code",
   "execution_count": 8,
   "metadata": {},
   "outputs": [],
   "source": [
    "train_100 = getJsonData('jsons/train_100.json')\n",
    "test_100 = getJsonData('jsons/test_100.json')"
   ]
  },
  {
   "cell_type": "code",
   "execution_count": 9,
   "metadata": {},
   "outputs": [
    {
     "data": {
      "text/plain": [
       "55467"
      ]
     },
     "execution_count": 9,
     "metadata": {},
     "output_type": "execute_result"
    }
   ],
   "source": [
    "len(train_100)"
   ]
  },
  {
   "cell_type": "code",
   "execution_count": 11,
   "metadata": {},
   "outputs": [
    {
     "name": "stdout",
     "output_type": "stream",
     "text": [
      "dict_keys(['status', 'message', 'comment_id', 'target', 'code_snippet', 'prime_var_dic', 'class_list', 'func_list', 'tokenized_code_snippet', 'tokenized_target', 'tokenized_comment', 'global_index', 'base_code_line_number', 'base_patch_number', 'changed_patch_number', 'code_file_name', 'line_change', 'written_on', 'project_name', 'int_date'])\n",
      "13907\n",
      "734\n",
      "13907 734\n"
     ]
    }
   ],
   "source": [
    "print(train_100[0].keys())\n",
    "\n",
    "# A function that returns the 'year' value:\n",
    "def myFunc(e):\n",
    "    return e['int_date']\n",
    "\n",
    "def temp_print(eclipse_train):\n",
    "    for i in range(100,110):\n",
    "        print(eclipse_train[i]['int_date'])\n",
    "\n",
    "eclipse_train = []\n",
    "\n",
    "sample_count = 0\n",
    "for i in range(0,len(train_100)):\n",
    "    if train_100[i]['project_name'] == 'googlereview_':\n",
    "        sample_count += 1\n",
    "        eclipse_train.append(train_100[i])\n",
    "        #print(train_100[i]['int_date'])\n",
    "        \n",
    "print(sample_count)\n",
    "\n",
    "eclipse_test = []\n",
    "sample_count = 0\n",
    "for i in range(0,len(test_100)):\n",
    "    if test_100[i]['project_name'] == 'googlereview_':\n",
    "        sample_count += 1\n",
    "        eclipse_test.append(test_100[i])\n",
    "        #print(train_100[i]['int_date'])\n",
    "        \n",
    "print(sample_count)\n",
    "#temp_print(eclipse_train)\n",
    "eclipse_train.sort(key=myFunc)\n",
    "eclipse_test.sort(key=myFunc)\n",
    "#print(\"after_sort\")\n",
    "\n",
    "print(len(eclipse_train),len(eclipse_test))\n",
    "#temp_print(eclipse_train)\n",
    "dump_dict(eclipse_train, \"project_wise_jsons/googlereview_train.json\")\n",
    "dump_dict(eclipse_test, \"project_wise_jsons/googlereview_test.json\")\n",
    "\n",
    "\n",
    "dump_dict(eclipse_train[0:5000], \"project_wise_jsons/googlereview_train_first_5000.json\")\n",
    "dump_dict(eclipse_train[5000:5500], \"project_wise_jsons/googlereview_test_5500.json\")\n",
    "\n",
    "dump_dict(eclipse_train[0:10000], \"project_wise_jsons/googlereview_train_first_10000.json\")\n",
    "dump_dict(eclipse_train[10000:10500], \"project_wise_jsons/googlereview_test_10500.json\")"
   ]
  },
  {
   "cell_type": "code",
   "execution_count": 13,
   "metadata": {},
   "outputs": [
    {
     "name": "stdout",
     "output_type": "stream",
     "text": [
      "14000 641\n"
     ]
    }
   ],
   "source": [
    "largest_train = eclipse_train + eclipse_test[0:93]\n",
    "largest_test = eclipse_test[93:]\n",
    "\n",
    "\n",
    "print(len(largest_train), len(largest_test))\n",
    "\n",
    "dump_dict(largest_train, \"project_wise_jsons/googlereview_train_first_14000.json\")\n",
    "dump_dict(largest_test, \"project_wise_jsons/googlereview_test_14641.json\")"
   ]
  },
  {
   "cell_type": "code",
   "execution_count": 61,
   "metadata": {},
   "outputs": [],
   "source": [
    "train_100 = getJsonData('project_wise_jsons/googlereview_train_first_14000.json')\n",
    "test_100 = getJsonData('project_wise_jsons/googlereview_test_14641.json')"
   ]
  },
  {
   "cell_type": "code",
   "execution_count": 62,
   "metadata": {},
   "outputs": [],
   "source": [
    "code_freq = {}\n",
    "comment_freq = {}"
   ]
  },
  {
   "cell_type": "code",
   "execution_count": 63,
   "metadata": {},
   "outputs": [],
   "source": [
    "for i in range(len(train_100)):\n",
    "    source_tokens = train_100[i]['tokenized_code_snippet']\n",
    "    target_tokens = train_100[i]['tokenized_target']\n",
    "    comment_tokens = train_100[i]['tokenized_comment']\n",
    "    code_tokens = source_tokens + target_tokens\n",
    "    \n",
    "    for x in code_tokens:\n",
    "        if x not in code_freq:\n",
    "            code_freq[x] = 0\n",
    "        code_freq[x] += 1\n",
    "        \n",
    "    for x in comment_tokens:\n",
    "        if x not in comment_freq:\n",
    "            comment_freq[x] = 0\n",
    "        comment_freq[x] += 1"
   ]
  },
  {
   "cell_type": "code",
   "execution_count": 64,
   "metadata": {},
   "outputs": [],
   "source": [
    "sorted_code_freq = {k: v for k, v in sorted(code_freq.items(), key=lambda item: item[1], reverse=True)}"
   ]
  },
  {
   "cell_type": "code",
   "execution_count": 65,
   "metadata": {},
   "outputs": [],
   "source": [
    "sorted_comment_freq = {k: v for k, v in sorted(comment_freq.items(), key=lambda item: item[1], reverse=True)}"
   ]
  },
  {
   "cell_type": "markdown",
   "metadata": {},
   "source": [
    "**Dump the file for future reference**"
   ]
  },
  {
   "cell_type": "code",
   "execution_count": 66,
   "metadata": {},
   "outputs": [],
   "source": [
    "dump_dict(sorted_code_freq, 'project_wise_jsons/sorted_code_freq_googlereview.json')"
   ]
  },
  {
   "cell_type": "code",
   "execution_count": 67,
   "metadata": {},
   "outputs": [],
   "source": [
    "dump_dict(sorted_comment_freq, 'project_wise_jsons/sorted_comment_freq_googlereview.json')"
   ]
  },
  {
   "cell_type": "markdown",
   "metadata": {},
   "source": [
    "**Saving vocab text file**"
   ]
  },
  {
   "cell_type": "code",
   "execution_count": 68,
   "metadata": {},
   "outputs": [],
   "source": [
    "target_out = open(\"googlereview_all/14000/target_vocab_10000.txt\", \"w\", encoding='utf-8')\n",
    "source_out = open(\"googlereview_all/14000/source_vocab_10000.txt\", \"w\", encoding='utf-8')"
   ]
  },
  {
   "cell_type": "code",
   "execution_count": 69,
   "metadata": {},
   "outputs": [],
   "source": [
    "## Take the first 'num_code_token' from the codes.\n",
    "\n",
    "num_code_token = 2000\n",
    "num_total_token = 10000\n",
    "\n",
    "for x in list(sorted_code_freq)[:num_code_token]:\n",
    "    target_out.write(x)\n",
    "    target_out.write(\"\\n\")\n",
    "target_out.close()"
   ]
  },
  {
   "cell_type": "code",
   "execution_count": 70,
   "metadata": {},
   "outputs": [],
   "source": [
    "src_vocab = list(sorted_code_freq)[:num_code_token]\n",
    "for tok in sorted_comment_freq:\n",
    "    if tok not in src_vocab and len(src_vocab) < num_total_token:\n",
    "        src_vocab.append(tok)\n",
    "\n",
    "for x in src_vocab:\n",
    "    source_out.write(x)\n",
    "    source_out.write(\"\\n\")\n",
    "source_out.close()"
   ]
  },
  {
   "cell_type": "markdown",
   "metadata": {},
   "source": [
    "# Creating Training Data"
   ]
  },
  {
   "cell_type": "code",
   "execution_count": 71,
   "metadata": {},
   "outputs": [],
   "source": [
    "train_100 = getJsonData('project_wise_jsons/googlereview_train_first_14000.json')\n",
    "test_100 = getJsonData('project_wise_jsons/googlereview_test_14641.json')"
   ]
  },
  {
   "cell_type": "markdown",
   "metadata": {},
   "source": [
    "## Code+Comment\n",
    "\n",
    "Write the train_100 file into OpenNMT training data. First CC, then C"
   ]
  },
  {
   "cell_type": "code",
   "execution_count": 72,
   "metadata": {},
   "outputs": [],
   "source": [
    "src_train = open(\"googlereview_all/14000/training_data/cc/src-train.txt\", 'w')\n",
    "src_test = open(\"googlereview_all/14000/training_data/cc/src-test.txt\", 'w')\n",
    "tgt_train = open(\"googlereview_all/14000/training_data/cc/tgt-train.txt\", 'w')\n",
    "tgt_test = open(\"googlereview_all/14000/training_data/cc/tgt-test.txt\", 'w')"
   ]
  },
  {
   "cell_type": "code",
   "execution_count": 73,
   "metadata": {},
   "outputs": [],
   "source": [
    "for x in train_100:\n",
    "    comment = '<|startcomment|> ' + ' '.join(x['tokenized_comment'][:200]) + ' <|endcomment|> '\n",
    "    code_snippet = ' '.join(x['tokenized_code_snippet']) + '\\n'\n",
    "    target = ' '.join(x['tokenized_target']) + '\\n'\n",
    "    src_train.write(comment)\n",
    "    src_train.write(code_snippet)\n",
    "    tgt_train.write(target)\n",
    "src_train.close()\n",
    "tgt_train.close()"
   ]
  },
  {
   "cell_type": "code",
   "execution_count": 74,
   "metadata": {},
   "outputs": [],
   "source": [
    "for x in test_100:\n",
    "    comment = '<|startcomment|> ' + ' '.join(x['tokenized_comment'][:200]) + ' <|endcomment|> '\n",
    "    code_snippet = ' '.join(x['tokenized_code_snippet']) + '\\n'\n",
    "    target = ' '.join(x['tokenized_target']) + '\\n'\n",
    "    src_test.write(comment)\n",
    "    src_test.write(code_snippet)\n",
    "    tgt_test.write(target)\n",
    "src_test.close()\n",
    "tgt_test.close()"
   ]
  },
  {
   "cell_type": "code",
   "execution_count": null,
   "metadata": {},
   "outputs": [],
   "source": []
  }
 ],
 "metadata": {
  "kernelspec": {
   "display_name": "Python 3",
   "language": "python",
   "name": "python3"
  },
  "language_info": {
   "codemirror_mode": {
    "name": "ipython",
    "version": 3
   },
   "file_extension": ".py",
   "mimetype": "text/x-python",
   "name": "python",
   "nbconvert_exporter": "python",
   "pygments_lexer": "ipython3",
   "version": "3.7.3"
  }
 },
 "nbformat": 4,
 "nbformat_minor": 2
}
